{
 "cells": [
  {
   "cell_type": "code",
   "execution_count": 88,
   "metadata": {},
   "outputs": [],
   "source": [
    "from pathlib import Path\n",
    "from tqdm import tqdm\n",
    "import numpy as np"
   ]
  },
  {
   "cell_type": "code",
   "execution_count": 33,
   "metadata": {},
   "outputs": [],
   "source": [
    "DATA_TXT_DIR='TextANIMAR2023/'\n",
    "DATA_SKT_DIR='SketchANIMAR2023/'"
   ]
  },
  {
   "cell_type": "code",
   "execution_count": 34,
   "metadata": {},
   "outputs": [
    {
     "name": "stdout",
     "output_type": "stream",
     "text": [
      "TextANIMAR2023/\n",
      "TextANIMAR2023/3D_Model_References\n",
      "TextANIMAR2023/3D_Model_References/generated_models\n",
      "TextANIMAR2023/3D_Model_References/References.csv\n",
      "TextANIMAR2023/3D_Model_References/References.zip\n",
      "TextANIMAR2023/3D_Model_References/References\n",
      "TextANIMAR2023/Train\n",
      "TextANIMAR2023/Train/TextQuery_Train.csv\n",
      "TextANIMAR2023/Train/TextQuery_GT_Train.csv\n"
     ]
    }
   ],
   "source": [
    "!find $DATA_TXT_DIR -maxdepth 2"
   ]
  },
  {
   "cell_type": "code",
   "execution_count": 7,
   "metadata": {},
   "outputs": [
    {
     "name": "stdout",
     "output_type": "stream",
     "text": [
      "found bundled python: /home/nhtlong/shrec/baseline/SHREC23-ANIMAR-BASELINE/data/blender-2.79/2.79/python\n",
      "/home/nhtlong/.shrec/save.txt\n",
      "Done\n",
      "\n",
      "Blender quit\n"
     ]
    }
   ],
   "source": [
    "!./blender-2.79/blender -b -P generate_ring.py -- $DATA_DIR/3D_Model_References/References\n",
    "# blender-2.79/blender -b -P generate_ring.py -- SketchANIMAR2023/3D_Model_References/References"
   ]
  },
  {
   "cell_type": "code",
   "execution_count": null,
   "metadata": {},
   "outputs": [],
   "source": [
    "!./blender-2.79/blender -b -P generate_ring.py -- $DATA_DIR/3D_Model_References/References\n",
    "# blender-2.79/blender -b -P generate_ring.py -- SketchANIMAR2023/3D_Model_References/References"
   ]
  },
  {
   "cell_type": "code",
   "execution_count": 35,
   "metadata": {},
   "outputs": [
    {
     "name": "stdout",
     "output_type": "stream",
     "text": [
      "TextANIMAR2023/\n",
      "TextANIMAR2023/3D_Model_References\n",
      "TextANIMAR2023/3D_Model_References/generated_models\n",
      "TextANIMAR2023/3D_Model_References/References.csv\n",
      "TextANIMAR2023/3D_Model_References/References.zip\n",
      "TextANIMAR2023/3D_Model_References/References\n",
      "TextANIMAR2023/Train\n",
      "TextANIMAR2023/Train/TextQuery_Train.csv\n",
      "TextANIMAR2023/Train/TextQuery_GT_Train.csv\n"
     ]
    }
   ],
   "source": [
    "!find $DATA_TXT_DIR -maxdepth 2"
   ]
  },
  {
   "cell_type": "code",
   "execution_count": 36,
   "metadata": {},
   "outputs": [],
   "source": [
    "DATA_TXT_DIR = Path(DATA_TXT_DIR)\n",
    "DATA_SKT_DIR = Path(DATA_SKT_DIR)"
   ]
  },
  {
   "cell_type": "code",
   "execution_count": 37,
   "metadata": {},
   "outputs": [],
   "source": [
    "import pandas as pd"
   ]
  },
  {
   "cell_type": "code",
   "execution_count": 61,
   "metadata": {},
   "outputs": [],
   "source": [
    "model_paths = list((DATA_SKT_DIR/'3D_Model_References'/'References').glob('*.obj'))\n",
    "available_models = [i.stem for i in model_paths]\n",
    "\n",
    "model_sketch_paths = list((DATA_SKT_DIR/'Train'/'SketchQuery_Train').glob('*.jpg'))\n",
    "sketch_queries_gt = pd.read_csv(DATA_SKT_DIR/'Train'/'SketchQuery_GT_Train.csv',delimiter=';')\n",
    "sketch_queries_gt.rename(columns={'Sketch Query ID': 'ID'}, inplace=True)\n",
    "available_sketches = pd.read_csv(DATA_SKT_DIR/'Train'/'SketchQuery_Train.csv',delimiter=';').ID.values\n",
    "\n",
    "text_queries_gt = pd.read_csv(DATA_TXT_DIR/'Train'/'TextQuery_GT_Train.csv',delimiter=';')\n",
    "text_queries_gt.rename(columns={'Text Query ID': 'ID'}, inplace=True)\n",
    "available_text = pd.read_csv(DATA_TXT_DIR/'Train'/'TextQuery_Train.csv',delimiter=';').set_index('ID').to_dict()['Description']"
   ]
  },
  {
   "cell_type": "code",
   "execution_count": 66,
   "metadata": {},
   "outputs": [
    {
     "name": "stderr",
     "output_type": "stream",
     "text": [
      "100%|██████████| 296/296 [00:00<00:00, 9405.62it/s]\n",
      "100%|██████████| 382/382 [00:00<00:00, 20474.40it/s]\n"
     ]
    }
   ],
   "source": [
    "def check_mapping(query_df, available_models, available_queries):\n",
    "    for i, row in tqdm(query_df.iterrows(), total=len(query_df)):\n",
    "        query = row['ID']\n",
    "        model = row['Model ID']\n",
    "        assert query in available_queries, f'Query {query} is not available'\n",
    "        assert model in available_models, f'Model {model} is not available'\n",
    "\n",
    "check_mapping(sketch_queries_gt, available_models, available_sketches)\n",
    "check_mapping(text_queries_gt, available_models, available_text.keys())"
   ]
  },
  {
   "cell_type": "code",
   "execution_count": 92,
   "metadata": {},
   "outputs": [],
   "source": [
    "def split(df, unique_col = 'Sketch Query ID', split=0.8):\n",
    "    # split by unique sket_filename to avoid data leakage\n",
    "    sket_filenames = df[unique_col].unique()\n",
    "    np.random.shuffle(sket_filenames)\n",
    "    train_sket_filenames = sket_filenames[:int(len(sket_filenames)*split)]\n",
    "    val_sket_filenames = sket_filenames[int(len(sket_filenames)*split):]\n",
    "    train_df = df[df[unique_col].isin(train_sket_filenames)]\n",
    "    val_df = df[df[unique_col].isin(val_sket_filenames)]\n",
    "    return train_df, val_df"
   ]
  },
  {
   "cell_type": "code",
   "execution_count": 93,
   "metadata": {},
   "outputs": [
    {
     "name": "stdout",
     "output_type": "stream",
     "text": [
      "296\n"
     ]
    },
    {
     "data": {
      "text/html": [
       "<div>\n",
       "<style scoped>\n",
       "    .dataframe tbody tr th:only-of-type {\n",
       "        vertical-align: middle;\n",
       "    }\n",
       "\n",
       "    .dataframe tbody tr th {\n",
       "        vertical-align: top;\n",
       "    }\n",
       "\n",
       "    .dataframe thead th {\n",
       "        text-align: right;\n",
       "    }\n",
       "</style>\n",
       "<table border=\"1\" class=\"dataframe\">\n",
       "  <thead>\n",
       "    <tr style=\"text-align: right;\">\n",
       "      <th></th>\n",
       "      <th>obj_filename</th>\n",
       "      <th>sket_filename</th>\n",
       "    </tr>\n",
       "  </thead>\n",
       "  <tbody>\n",
       "    <tr>\n",
       "      <th>0</th>\n",
       "      <td>90ba6644ad322c47.obj</td>\n",
       "      <td>036dbe8e06efc868.jpg</td>\n",
       "    </tr>\n",
       "    <tr>\n",
       "      <th>1</th>\n",
       "      <td>e9b85e6177ccf14d.obj</td>\n",
       "      <td>036dbe8e06efc868.jpg</td>\n",
       "    </tr>\n",
       "    <tr>\n",
       "      <th>2</th>\n",
       "      <td>2d0e5e5ef940e212.obj</td>\n",
       "      <td>036dbe8e06efc868.jpg</td>\n",
       "    </tr>\n",
       "    <tr>\n",
       "      <th>3</th>\n",
       "      <td>55a985eef253a7a0.obj</td>\n",
       "      <td>036dbe8e06efc868.jpg</td>\n",
       "    </tr>\n",
       "    <tr>\n",
       "      <th>4</th>\n",
       "      <td>90ba6644ad322c47.obj</td>\n",
       "      <td>0516d1f786008dce.jpg</td>\n",
       "    </tr>\n",
       "  </tbody>\n",
       "</table>\n",
       "</div>"
      ],
      "text/plain": [
       "           obj_filename         sket_filename\n",
       "0  90ba6644ad322c47.obj  036dbe8e06efc868.jpg\n",
       "1  e9b85e6177ccf14d.obj  036dbe8e06efc868.jpg\n",
       "2  2d0e5e5ef940e212.obj  036dbe8e06efc868.jpg\n",
       "3  55a985eef253a7a0.obj  036dbe8e06efc868.jpg\n",
       "4  90ba6644ad322c47.obj  0516d1f786008dce.jpg"
      ]
     },
     "execution_count": 93,
     "metadata": {},
     "output_type": "execute_result"
    }
   ],
   "source": [
    "data_skt_df = pd.DataFrame(columns=['obj_filename', 'sket_filename'])\n",
    "data_skt_df['obj_filename'] = sketch_queries_gt['Model ID'].apply(lambda x: f'{x}.obj')\n",
    "data_skt_df['sket_filename'] = sketch_queries_gt['ID'].apply(lambda x: f'{x}.jpg')\n",
    "print(len(data_skt_df))\n",
    "data_skt_df.head()"
   ]
  },
  {
   "cell_type": "code",
   "execution_count": 102,
   "metadata": {},
   "outputs": [
    {
     "data": {
      "text/plain": [
       "(236, 60)"
      ]
     },
     "execution_count": 102,
     "metadata": {},
     "output_type": "execute_result"
    }
   ],
   "source": [
    "train_skt_df, test_skt_df = split(data_skt_df, unique_col = 'sket_filename', split=0.8)\n",
    "train_skt_df.to_csv('csv/train_skt.csv', index=False)\n",
    "test_skt_df.to_csv('csv/test_skt.csv', index=False)\n",
    "len(train_skt_df), len(test_skt_df)"
   ]
  },
  {
   "cell_type": "code",
   "execution_count": 108,
   "metadata": {},
   "outputs": [
    {
     "name": "stdout",
     "output_type": "stream",
     "text": [
      "382\n"
     ]
    },
    {
     "data": {
      "text/html": [
       "<div>\n",
       "<style scoped>\n",
       "    .dataframe tbody tr th:only-of-type {\n",
       "        vertical-align: middle;\n",
       "    }\n",
       "\n",
       "    .dataframe tbody tr th {\n",
       "        vertical-align: top;\n",
       "    }\n",
       "\n",
       "    .dataframe thead th {\n",
       "        text-align: right;\n",
       "    }\n",
       "</style>\n",
       "<table border=\"1\" class=\"dataframe\">\n",
       "  <thead>\n",
       "    <tr style=\"text-align: right;\">\n",
       "      <th></th>\n",
       "      <th>obj_filename</th>\n",
       "      <th>tex</th>\n",
       "    </tr>\n",
       "  </thead>\n",
       "  <tbody>\n",
       "    <tr>\n",
       "      <th>0</th>\n",
       "      <td>13a49ab0aecbc76f.obj</td>\n",
       "      <td>A female mandrill is climbing out the top of t...</td>\n",
       "    </tr>\n",
       "    <tr>\n",
       "      <th>1</th>\n",
       "      <td>40e86f26ce8cc8eb.obj</td>\n",
       "      <td>A female mandrill is climbing out the top of t...</td>\n",
       "    </tr>\n",
       "    <tr>\n",
       "      <th>2</th>\n",
       "      <td>836406771c68c193.obj</td>\n",
       "      <td>A female mandrill is climbing out the top of t...</td>\n",
       "    </tr>\n",
       "    <tr>\n",
       "      <th>3</th>\n",
       "      <td>bda1f6d4a4b5fe79.obj</td>\n",
       "      <td>A female mandrill is climbing out the top of t...</td>\n",
       "    </tr>\n",
       "    <tr>\n",
       "      <th>4</th>\n",
       "      <td>70c98f4c562affee.obj</td>\n",
       "      <td>A black goat is returning the shelter</td>\n",
       "    </tr>\n",
       "  </tbody>\n",
       "</table>\n",
       "</div>"
      ],
      "text/plain": [
       "           obj_filename                                                tex\n",
       "0  13a49ab0aecbc76f.obj  A female mandrill is climbing out the top of t...\n",
       "1  40e86f26ce8cc8eb.obj  A female mandrill is climbing out the top of t...\n",
       "2  836406771c68c193.obj  A female mandrill is climbing out the top of t...\n",
       "3  bda1f6d4a4b5fe79.obj  A female mandrill is climbing out the top of t...\n",
       "4  70c98f4c562affee.obj              A black goat is returning the shelter"
      ]
     },
     "execution_count": 108,
     "metadata": {},
     "output_type": "execute_result"
    }
   ],
   "source": [
    "data_txt_df = pd.DataFrame(columns=['obj_filename', 'tex'])\n",
    "data_txt_df['obj_filename'] = text_queries_gt['Model ID'].apply(lambda x: f'{x}.obj')\n",
    "data_txt_df['tex'] = text_queries_gt['ID'].apply(lambda x: available_text[x])\n",
    "print(len(data_txt_df))\n",
    "data_txt_df.head()"
   ]
  },
  {
   "cell_type": "code",
   "execution_count": 113,
   "metadata": {},
   "outputs": [
    {
     "data": {
      "text/plain": [
       "(302, 80)"
      ]
     },
     "execution_count": 113,
     "metadata": {},
     "output_type": "execute_result"
    }
   ],
   "source": [
    "train_txt_df, test_txt_df = split(data_txt_df, unique_col = 'tex', split=0.8)\n",
    "train_txt_df.to_csv('csv/train_tex.csv', index=False)\n",
    "test_txt_df.to_csv('csv/test_tex.csv', index=False)\n",
    "len(train_txt_df), len(test_txt_df)"
   ]
  },
  {
   "cell_type": "code",
   "execution_count": 116,
   "metadata": {},
   "outputs": [
    {
     "name": "stdout",
     "output_type": "stream",
     "text": [
      "240\n"
     ]
    },
    {
     "data": {
      "text/html": [
       "<div>\n",
       "<style scoped>\n",
       "    .dataframe tbody tr th:only-of-type {\n",
       "        vertical-align: middle;\n",
       "    }\n",
       "\n",
       "    .dataframe tbody tr th {\n",
       "        vertical-align: top;\n",
       "    }\n",
       "\n",
       "    .dataframe thead th {\n",
       "        text-align: right;\n",
       "    }\n",
       "</style>\n",
       "<table border=\"1\" class=\"dataframe\">\n",
       "  <thead>\n",
       "    <tr style=\"text-align: right;\">\n",
       "      <th></th>\n",
       "      <th>obj_filename</th>\n",
       "      <th>sket_filename</th>\n",
       "      <th>tex</th>\n",
       "    </tr>\n",
       "  </thead>\n",
       "  <tbody>\n",
       "    <tr>\n",
       "      <th>0</th>\n",
       "      <td>90ba6644ad322c47.obj</td>\n",
       "      <td>036dbe8e06efc868.jpg</td>\n",
       "      <td>A male African elephant is drinking and bathin...</td>\n",
       "    </tr>\n",
       "    <tr>\n",
       "      <th>1</th>\n",
       "      <td>90ba6644ad322c47.obj</td>\n",
       "      <td>0516d1f786008dce.jpg</td>\n",
       "      <td>A male African elephant is drinking and bathin...</td>\n",
       "    </tr>\n",
       "    <tr>\n",
       "      <th>2</th>\n",
       "      <td>90ba6644ad322c47.obj</td>\n",
       "      <td>1f4391cd4503420a.jpg</td>\n",
       "      <td>A male African elephant is drinking and bathin...</td>\n",
       "    </tr>\n",
       "    <tr>\n",
       "      <th>3</th>\n",
       "      <td>90ba6644ad322c47.obj</td>\n",
       "      <td>86889d264071b08d.jpg</td>\n",
       "      <td>A male African elephant is drinking and bathin...</td>\n",
       "    </tr>\n",
       "    <tr>\n",
       "      <th>4</th>\n",
       "      <td>e9b85e6177ccf14d.obj</td>\n",
       "      <td>036dbe8e06efc868.jpg</td>\n",
       "      <td>A male African elephant is drinking and bathin...</td>\n",
       "    </tr>\n",
       "  </tbody>\n",
       "</table>\n",
       "</div>"
      ],
      "text/plain": [
       "           obj_filename         sket_filename  \\\n",
       "0  90ba6644ad322c47.obj  036dbe8e06efc868.jpg   \n",
       "1  90ba6644ad322c47.obj  0516d1f786008dce.jpg   \n",
       "2  90ba6644ad322c47.obj  1f4391cd4503420a.jpg   \n",
       "3  90ba6644ad322c47.obj  86889d264071b08d.jpg   \n",
       "4  e9b85e6177ccf14d.obj  036dbe8e06efc868.jpg   \n",
       "\n",
       "                                                 tex  \n",
       "0  A male African elephant is drinking and bathin...  \n",
       "1  A male African elephant is drinking and bathin...  \n",
       "2  A male African elephant is drinking and bathin...  \n",
       "3  A male African elephant is drinking and bathin...  \n",
       "4  A male African elephant is drinking and bathin...  "
      ]
     },
     "execution_count": 116,
     "metadata": {},
     "output_type": "execute_result"
    }
   ],
   "source": [
    "# merge the two datasets by obj_filename\n",
    "train_df = pd.merge(data_skt_df, data_txt_df, on='obj_filename')\n",
    "print(len(train_df))\n",
    "train_df.head()"
   ]
  },
  {
   "cell_type": "code",
   "execution_count": 117,
   "metadata": {},
   "outputs": [
    {
     "data": {
      "text/plain": [
       "(185, 55)"
      ]
     },
     "execution_count": 117,
     "metadata": {},
     "output_type": "execute_result"
    }
   ],
   "source": [
    "train_obj_df, test_obj_df = split(train_df, unique_col = 'obj_filename', split=0.8)\n",
    "train_obj_df.to_csv('csv/train_both.csv', index=False)\n",
    "test_obj_df.to_csv('csv/test_both.csv', index=False)\n",
    "len(train_obj_df), len(test_obj_df)"
   ]
  }
 ],
 "metadata": {
  "kernelspec": {
   "display_name": "kaggle",
   "language": "python",
   "name": "python3"
  },
  "language_info": {
   "codemirror_mode": {
    "name": "ipython",
    "version": 3
   },
   "file_extension": ".py",
   "mimetype": "text/x-python",
   "name": "python",
   "nbconvert_exporter": "python",
   "pygments_lexer": "ipython3",
   "version": "3.10.9"
  },
  "orig_nbformat": 4,
  "vscode": {
   "interpreter": {
    "hash": "32cec203cbdc35c8f30d5d72232fdde6f0c511231056dd4327d32bb9830bdedf"
   }
  }
 },
 "nbformat": 4,
 "nbformat_minor": 2
}
